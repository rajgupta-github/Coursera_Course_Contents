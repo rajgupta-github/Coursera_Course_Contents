{
  "nbformat": 4,
  "nbformat_minor": 0,
  "metadata": {
    "kernelspec": {
      "display_name": "Python 3",
      "language": "python",
      "name": "python3"
    },
    "language_info": {
      "codemirror_mode": {
        "name": "ipython",
        "version": 3
      },
      "file_extension": ".py",
      "mimetype": "text/x-python",
      "name": "python",
      "nbconvert_exporter": "python",
      "pygments_lexer": "ipython3",
      "version": "3.7.1"
    },
    "colab": {
      "name": "Coding Tutorial.ipynb",
      "provenance": [],
      "collapsed_sections": []
    }
  },
  "cells": [
    {
      "cell_type": "code",
      "metadata": {
        "scrolled": true,
        "id": "82r85LJleaJM",
        "colab_type": "code",
        "colab": {}
      },
      "source": [
        "import tensorflow as tf\n",
        "print(tf.__version__)"
      ],
      "execution_count": 0,
      "outputs": []
    },
    {
      "cell_type": "markdown",
      "metadata": {
        "id": "JvJreFwqeaJQ",
        "colab_type": "text"
      },
      "source": [
        "# Validation, regularisation and callbacks"
      ]
    },
    {
      "cell_type": "markdown",
      "metadata": {
        "id": "xO8J0DqkeaJR",
        "colab_type": "text"
      },
      "source": [
        " ## Coding tutorials\n",
        " #### [1. Validation sets](#coding_tutorial_1)\n",
        " #### [2. Model regularisation](#coding_tutorial_2)\n",
        " #### [3. Introduction to callbacks](#coding_tutorial_3)\n",
        " #### [4. Early stopping / patience](#coding_tutorial_4)"
      ]
    },
    {
      "cell_type": "markdown",
      "metadata": {
        "id": "xjtCNlIzeaJR",
        "colab_type": "text"
      },
      "source": [
        "***\n",
        "<a id=\"coding_tutorial_1\"></a>\n",
        "## Validation sets"
      ]
    },
    {
      "cell_type": "markdown",
      "metadata": {
        "id": "alq5lOhNeaJS",
        "colab_type": "text"
      },
      "source": [
        "#### Load the data"
      ]
    },
    {
      "cell_type": "code",
      "metadata": {
        "id": "lPLEPHtneaJS",
        "colab_type": "code",
        "colab": {
          "base_uri": "https://localhost:8080/",
          "height": 663
        },
        "outputId": "4d7ba3fb-87ea-4787-b4e7-d28b2ac3f5ff"
      },
      "source": [
        "# Load the diabetes dataset\n",
        "\n",
        "from sklearn.datasets import load_diabetes\n",
        "diabetes_dataset = load_diabetes()\n",
        "print(diabetes_dataset['DESCR'])"
      ],
      "execution_count": 3,
      "outputs": [
        {
          "output_type": "stream",
          "text": [
            ".. _diabetes_dataset:\n",
            "\n",
            "Diabetes dataset\n",
            "----------------\n",
            "\n",
            "Ten baseline variables, age, sex, body mass index, average blood\n",
            "pressure, and six blood serum measurements were obtained for each of n =\n",
            "442 diabetes patients, as well as the response of interest, a\n",
            "quantitative measure of disease progression one year after baseline.\n",
            "\n",
            "**Data Set Characteristics:**\n",
            "\n",
            "  :Number of Instances: 442\n",
            "\n",
            "  :Number of Attributes: First 10 columns are numeric predictive values\n",
            "\n",
            "  :Target: Column 11 is a quantitative measure of disease progression one year after baseline\n",
            "\n",
            "  :Attribute Information:\n",
            "      - Age\n",
            "      - Sex\n",
            "      - Body mass index\n",
            "      - Average blood pressure\n",
            "      - S1\n",
            "      - S2\n",
            "      - S3\n",
            "      - S4\n",
            "      - S5\n",
            "      - S6\n",
            "\n",
            "Note: Each of these 10 feature variables have been mean centered and scaled by the standard deviation times `n_samples` (i.e. the sum of squares of each column totals 1).\n",
            "\n",
            "Source URL:\n",
            "https://www4.stat.ncsu.edu/~boos/var.select/diabetes.html\n",
            "\n",
            "For more information see:\n",
            "Bradley Efron, Trevor Hastie, Iain Johnstone and Robert Tibshirani (2004) \"Least Angle Regression,\" Annals of Statistics (with discussion), 407-499.\n",
            "(https://web.stanford.edu/~hastie/Papers/LARS/LeastAngle_2002.pdf)\n"
          ],
          "name": "stdout"
        }
      ]
    },
    {
      "cell_type": "code",
      "metadata": {
        "id": "Cg0iyFTReaJV",
        "colab_type": "code",
        "colab": {
          "base_uri": "https://localhost:8080/",
          "height": 34
        },
        "outputId": "eaa978ae-ce74-4741-b4ea-6c9aa51d9f6e"
      },
      "source": [
        "# Save the input and target variables\n",
        "diabetes_dataset.keys()\n",
        "data = diabetes_dataset.data\n",
        "target = diabetes_dataset.target\n",
        "target[:5]"
      ],
      "execution_count": 7,
      "outputs": [
        {
          "output_type": "execute_result",
          "data": {
            "text/plain": [
              "array([151.,  75., 141., 206., 135.])"
            ]
          },
          "metadata": {
            "tags": []
          },
          "execution_count": 7
        }
      ]
    },
    {
      "cell_type": "code",
      "metadata": {
        "id": "TJnbmEOveaJY",
        "colab_type": "code",
        "colab": {
          "base_uri": "https://localhost:8080/",
          "height": 34
        },
        "outputId": "2a97982c-9724-4498-d6e6-8ddb3a0b2c9a"
      },
      "source": [
        "# Normalise the target data (this will make clearer training curves)\n",
        "\n",
        "target = (target - target.mean(axis=0))/target.std()\n",
        "target[:5]"
      ],
      "execution_count": 8,
      "outputs": [
        {
          "output_type": "execute_result",
          "data": {
            "text/plain": [
              "array([-0.01471948, -1.00165882, -0.14457991,  0.69951294, -0.22249618])"
            ]
          },
          "metadata": {
            "tags": []
          },
          "execution_count": 8
        }
      ]
    },
    {
      "cell_type": "code",
      "metadata": {
        "id": "qPUA62LeeaJb",
        "colab_type": "code",
        "colab": {
          "base_uri": "https://localhost:8080/",
          "height": 85
        },
        "outputId": "78c272b3-2019-4010-8afa-73d05e019104"
      },
      "source": [
        "# Split the data into train and test sets\n",
        "\n",
        "from sklearn.model_selection import train_test_split\n",
        "train_data, test_data, train_target, test_target = train_test_split(data, target, test_size=0.1)\n",
        "print(train_data.shape)\n",
        "print(test_data.shape)\n",
        "print(train_target.shape)\n",
        "print(test_target.shape)"
      ],
      "execution_count": 12,
      "outputs": [
        {
          "output_type": "stream",
          "text": [
            "(397, 10)\n",
            "(45, 10)\n",
            "(397,)\n",
            "(45,)\n"
          ],
          "name": "stdout"
        }
      ]
    },
    {
      "cell_type": "markdown",
      "metadata": {
        "id": "9JIrhjpleaJe",
        "colab_type": "text"
      },
      "source": [
        "#### Train a feedforward neural network model"
      ]
    },
    {
      "cell_type": "code",
      "metadata": {
        "id": "iEwRlPRVeaJe",
        "colab_type": "code",
        "colab": {}
      },
      "source": [
        "# Build the model\n",
        "import tensorflow as tf\n",
        "from tensorflow.keras.models import Sequential\n",
        "from tensorflow.keras.layers import Dense, Dropout\n",
        "\n",
        "def get_model():\n",
        "  model = Sequential([\n",
        "                      Dense(128, activation='relu', input_shape=(train_data.shape[1],)),\n",
        "                      Dense(128, activation='relu'),\n",
        "                      Dense(128, activation='relu'),\n",
        "                      Dense(128, activation='relu'),\n",
        "                      Dense(128, activation='relu'),\n",
        "                      Dense(128, activation='relu'),\n",
        "                      Dense(1)\n",
        "  ])\n",
        "  return model\n",
        "\n",
        "model = get_model() "
      ],
      "execution_count": 0,
      "outputs": []
    },
    {
      "cell_type": "code",
      "metadata": {
        "id": "1L-PixjJeaJh",
        "colab_type": "code",
        "colab": {
          "base_uri": "https://localhost:8080/",
          "height": 391
        },
        "outputId": "fe4d2e79-09ed-45e4-eef3-f8acca23781d"
      },
      "source": [
        "# Print the model summary\n",
        "model.summary()\n"
      ],
      "execution_count": 117,
      "outputs": [
        {
          "output_type": "stream",
          "text": [
            "Model: \"sequential_12\"\n",
            "_________________________________________________________________\n",
            "Layer (type)                 Output Shape              Param #   \n",
            "=================================================================\n",
            "dense_73 (Dense)             (None, 128)               1408      \n",
            "_________________________________________________________________\n",
            "dense_74 (Dense)             (None, 128)               16512     \n",
            "_________________________________________________________________\n",
            "dense_75 (Dense)             (None, 128)               16512     \n",
            "_________________________________________________________________\n",
            "dense_76 (Dense)             (None, 128)               16512     \n",
            "_________________________________________________________________\n",
            "dense_77 (Dense)             (None, 128)               16512     \n",
            "_________________________________________________________________\n",
            "dense_78 (Dense)             (None, 128)               16512     \n",
            "_________________________________________________________________\n",
            "dense_79 (Dense)             (None, 1)                 129       \n",
            "=================================================================\n",
            "Total params: 84,097\n",
            "Trainable params: 84,097\n",
            "Non-trainable params: 0\n",
            "_________________________________________________________________\n"
          ],
          "name": "stdout"
        }
      ]
    },
    {
      "cell_type": "code",
      "metadata": {
        "id": "pie8pUqAeaJk",
        "colab_type": "code",
        "colab": {}
      },
      "source": [
        "# Compile the model\n",
        "model.compile(optimizer='adam', loss = 'mse', metrics = ['mse'])\n"
      ],
      "execution_count": 0,
      "outputs": []
    },
    {
      "cell_type": "code",
      "metadata": {
        "id": "VvCNDweDeaJm",
        "colab_type": "code",
        "colab": {
          "base_uri": "https://localhost:8080/",
          "height": 1000
        },
        "outputId": "dfdad0e3-fe71-4be5-f217-a9654178ba33"
      },
      "source": [
        "# Train the model, with some of the data reserved for validation\n",
        "history = model.fit(train_data, train_target, epochs=100, verbose=True, validation_split=0.3, batch_size=64)\n"
      ],
      "execution_count": 119,
      "outputs": [
        {
          "output_type": "stream",
          "text": [
            "Epoch 1/100\n",
            "5/5 [==============================] - 0s 30ms/step - loss: 0.9951 - mse: 0.9951 - val_loss: 0.9862 - val_mse: 0.9862\n",
            "Epoch 2/100\n",
            "5/5 [==============================] - 0s 11ms/step - loss: 0.8937 - mse: 0.8937 - val_loss: 0.8838 - val_mse: 0.8838\n",
            "Epoch 3/100\n",
            "5/5 [==============================] - 0s 11ms/step - loss: 0.7218 - mse: 0.7218 - val_loss: 0.7367 - val_mse: 0.7367\n",
            "Epoch 4/100\n",
            "5/5 [==============================] - 0s 11ms/step - loss: 0.5754 - mse: 0.5754 - val_loss: 0.5658 - val_mse: 0.5658\n",
            "Epoch 5/100\n",
            "5/5 [==============================] - 0s 10ms/step - loss: 0.5334 - mse: 0.5334 - val_loss: 0.5486 - val_mse: 0.5486\n",
            "Epoch 6/100\n",
            "5/5 [==============================] - 0s 12ms/step - loss: 0.4862 - mse: 0.4862 - val_loss: 0.5701 - val_mse: 0.5701\n",
            "Epoch 7/100\n",
            "5/5 [==============================] - 0s 11ms/step - loss: 0.4799 - mse: 0.4799 - val_loss: 0.5597 - val_mse: 0.5597\n",
            "Epoch 8/100\n",
            "5/5 [==============================] - 0s 12ms/step - loss: 0.4550 - mse: 0.4550 - val_loss: 0.5733 - val_mse: 0.5733\n",
            "Epoch 9/100\n",
            "5/5 [==============================] - 0s 10ms/step - loss: 0.4743 - mse: 0.4743 - val_loss: 0.5598 - val_mse: 0.5598\n",
            "Epoch 10/100\n",
            "5/5 [==============================] - 0s 10ms/step - loss: 0.4545 - mse: 0.4545 - val_loss: 0.5925 - val_mse: 0.5925\n",
            "Epoch 11/100\n",
            "5/5 [==============================] - 0s 10ms/step - loss: 0.4420 - mse: 0.4420 - val_loss: 0.5459 - val_mse: 0.5459\n",
            "Epoch 12/100\n",
            "5/5 [==============================] - 0s 10ms/step - loss: 0.4460 - mse: 0.4460 - val_loss: 0.7146 - val_mse: 0.7146\n",
            "Epoch 13/100\n",
            "5/5 [==============================] - 0s 12ms/step - loss: 0.4838 - mse: 0.4838 - val_loss: 0.5485 - val_mse: 0.5485\n",
            "Epoch 14/100\n",
            "5/5 [==============================] - 0s 11ms/step - loss: 0.5324 - mse: 0.5324 - val_loss: 0.5853 - val_mse: 0.5853\n",
            "Epoch 15/100\n",
            "5/5 [==============================] - 0s 10ms/step - loss: 0.4881 - mse: 0.4881 - val_loss: 0.6235 - val_mse: 0.6235\n",
            "Epoch 16/100\n",
            "5/5 [==============================] - 0s 12ms/step - loss: 0.4720 - mse: 0.4720 - val_loss: 0.5574 - val_mse: 0.5574\n",
            "Epoch 17/100\n",
            "5/5 [==============================] - 0s 10ms/step - loss: 0.4418 - mse: 0.4418 - val_loss: 0.6857 - val_mse: 0.6857\n",
            "Epoch 18/100\n",
            "5/5 [==============================] - 0s 10ms/step - loss: 0.4377 - mse: 0.4377 - val_loss: 0.5934 - val_mse: 0.5934\n",
            "Epoch 19/100\n",
            "5/5 [==============================] - 0s 10ms/step - loss: 0.4064 - mse: 0.4064 - val_loss: 0.5736 - val_mse: 0.5736\n",
            "Epoch 20/100\n",
            "5/5 [==============================] - 0s 10ms/step - loss: 0.4051 - mse: 0.4051 - val_loss: 0.6374 - val_mse: 0.6374\n",
            "Epoch 21/100\n",
            "5/5 [==============================] - 0s 11ms/step - loss: 0.3972 - mse: 0.3972 - val_loss: 0.5769 - val_mse: 0.5769\n",
            "Epoch 22/100\n",
            "5/5 [==============================] - 0s 11ms/step - loss: 0.3820 - mse: 0.3820 - val_loss: 0.6308 - val_mse: 0.6308\n",
            "Epoch 23/100\n",
            "5/5 [==============================] - 0s 11ms/step - loss: 0.3729 - mse: 0.3729 - val_loss: 0.5855 - val_mse: 0.5855\n",
            "Epoch 24/100\n",
            "5/5 [==============================] - 0s 10ms/step - loss: 0.3667 - mse: 0.3667 - val_loss: 0.6178 - val_mse: 0.6178\n",
            "Epoch 25/100\n",
            "5/5 [==============================] - 0s 11ms/step - loss: 0.3562 - mse: 0.3562 - val_loss: 0.6070 - val_mse: 0.6070\n",
            "Epoch 26/100\n",
            "5/5 [==============================] - 0s 12ms/step - loss: 0.3472 - mse: 0.3472 - val_loss: 0.6730 - val_mse: 0.6730\n",
            "Epoch 27/100\n",
            "5/5 [==============================] - 0s 11ms/step - loss: 0.3507 - mse: 0.3507 - val_loss: 0.6154 - val_mse: 0.6154\n",
            "Epoch 28/100\n",
            "5/5 [==============================] - 0s 10ms/step - loss: 0.3389 - mse: 0.3389 - val_loss: 0.6517 - val_mse: 0.6517\n",
            "Epoch 29/100\n",
            "5/5 [==============================] - 0s 10ms/step - loss: 0.3272 - mse: 0.3272 - val_loss: 0.6243 - val_mse: 0.6243\n",
            "Epoch 30/100\n",
            "5/5 [==============================] - 0s 10ms/step - loss: 0.3254 - mse: 0.3254 - val_loss: 0.6993 - val_mse: 0.6993\n",
            "Epoch 31/100\n",
            "5/5 [==============================] - 0s 10ms/step - loss: 0.3154 - mse: 0.3154 - val_loss: 0.6968 - val_mse: 0.6968\n",
            "Epoch 32/100\n",
            "5/5 [==============================] - 0s 10ms/step - loss: 0.3227 - mse: 0.3227 - val_loss: 0.6324 - val_mse: 0.6324\n",
            "Epoch 33/100\n",
            "5/5 [==============================] - 0s 11ms/step - loss: 0.3339 - mse: 0.3339 - val_loss: 0.7458 - val_mse: 0.7458\n",
            "Epoch 34/100\n",
            "5/5 [==============================] - 0s 10ms/step - loss: 0.2928 - mse: 0.2928 - val_loss: 0.6559 - val_mse: 0.6559\n",
            "Epoch 35/100\n",
            "5/5 [==============================] - 0s 12ms/step - loss: 0.2898 - mse: 0.2898 - val_loss: 0.7672 - val_mse: 0.7672\n",
            "Epoch 36/100\n",
            "5/5 [==============================] - 0s 10ms/step - loss: 0.2884 - mse: 0.2884 - val_loss: 0.7613 - val_mse: 0.7613\n",
            "Epoch 37/100\n",
            "5/5 [==============================] - 0s 10ms/step - loss: 0.2894 - mse: 0.2894 - val_loss: 0.6884 - val_mse: 0.6884\n",
            "Epoch 38/100\n",
            "5/5 [==============================] - 0s 10ms/step - loss: 0.2731 - mse: 0.2731 - val_loss: 0.7851 - val_mse: 0.7851\n",
            "Epoch 39/100\n",
            "5/5 [==============================] - 0s 11ms/step - loss: 0.2567 - mse: 0.2567 - val_loss: 0.7398 - val_mse: 0.7398\n",
            "Epoch 40/100\n",
            "5/5 [==============================] - 0s 11ms/step - loss: 0.2605 - mse: 0.2605 - val_loss: 0.7089 - val_mse: 0.7089\n",
            "Epoch 41/100\n",
            "5/5 [==============================] - 0s 13ms/step - loss: 0.2529 - mse: 0.2529 - val_loss: 0.7990 - val_mse: 0.7990\n",
            "Epoch 42/100\n",
            "5/5 [==============================] - 0s 11ms/step - loss: 0.2323 - mse: 0.2323 - val_loss: 0.7682 - val_mse: 0.7682\n",
            "Epoch 43/100\n",
            "5/5 [==============================] - 0s 11ms/step - loss: 0.2255 - mse: 0.2255 - val_loss: 0.7632 - val_mse: 0.7632\n",
            "Epoch 44/100\n",
            "5/5 [==============================] - 0s 12ms/step - loss: 0.2183 - mse: 0.2183 - val_loss: 0.7718 - val_mse: 0.7718\n",
            "Epoch 45/100\n",
            "5/5 [==============================] - 0s 12ms/step - loss: 0.2083 - mse: 0.2083 - val_loss: 0.8983 - val_mse: 0.8983\n",
            "Epoch 46/100\n",
            "5/5 [==============================] - 0s 11ms/step - loss: 0.1978 - mse: 0.1978 - val_loss: 0.8266 - val_mse: 0.8266\n",
            "Epoch 47/100\n",
            "5/5 [==============================] - 0s 11ms/step - loss: 0.2047 - mse: 0.2047 - val_loss: 0.7535 - val_mse: 0.7535\n",
            "Epoch 48/100\n",
            "5/5 [==============================] - 0s 11ms/step - loss: 0.2220 - mse: 0.2220 - val_loss: 0.7994 - val_mse: 0.7994\n",
            "Epoch 49/100\n",
            "5/5 [==============================] - 0s 10ms/step - loss: 0.1964 - mse: 0.1964 - val_loss: 0.8064 - val_mse: 0.8064\n",
            "Epoch 50/100\n",
            "5/5 [==============================] - 0s 10ms/step - loss: 0.1760 - mse: 0.1760 - val_loss: 0.8976 - val_mse: 0.8976\n",
            "Epoch 51/100\n",
            "5/5 [==============================] - 0s 10ms/step - loss: 0.1684 - mse: 0.1684 - val_loss: 0.9232 - val_mse: 0.9232\n",
            "Epoch 52/100\n",
            "5/5 [==============================] - 0s 10ms/step - loss: 0.1618 - mse: 0.1618 - val_loss: 0.8438 - val_mse: 0.8438\n",
            "Epoch 53/100\n",
            "5/5 [==============================] - 0s 11ms/step - loss: 0.1759 - mse: 0.1759 - val_loss: 0.8051 - val_mse: 0.8051\n",
            "Epoch 54/100\n",
            "5/5 [==============================] - 0s 12ms/step - loss: 0.1568 - mse: 0.1568 - val_loss: 0.8363 - val_mse: 0.8363\n",
            "Epoch 55/100\n",
            "5/5 [==============================] - 0s 11ms/step - loss: 0.1439 - mse: 0.1439 - val_loss: 0.8963 - val_mse: 0.8963\n",
            "Epoch 56/100\n",
            "5/5 [==============================] - 0s 10ms/step - loss: 0.1310 - mse: 0.1310 - val_loss: 1.0060 - val_mse: 1.0060\n",
            "Epoch 57/100\n",
            "5/5 [==============================] - 0s 13ms/step - loss: 0.1472 - mse: 0.1472 - val_loss: 0.8886 - val_mse: 0.8886\n",
            "Epoch 58/100\n",
            "5/5 [==============================] - 0s 11ms/step - loss: 0.1457 - mse: 0.1457 - val_loss: 0.8980 - val_mse: 0.8980\n",
            "Epoch 59/100\n",
            "5/5 [==============================] - 0s 10ms/step - loss: 0.1324 - mse: 0.1324 - val_loss: 0.8284 - val_mse: 0.8284\n",
            "Epoch 60/100\n",
            "5/5 [==============================] - 0s 11ms/step - loss: 0.1540 - mse: 0.1540 - val_loss: 0.8937 - val_mse: 0.8937\n",
            "Epoch 61/100\n",
            "5/5 [==============================] - 0s 11ms/step - loss: 0.1203 - mse: 0.1203 - val_loss: 0.9392 - val_mse: 0.9392\n",
            "Epoch 62/100\n",
            "5/5 [==============================] - 0s 10ms/step - loss: 0.1082 - mse: 0.1082 - val_loss: 0.8826 - val_mse: 0.8826\n",
            "Epoch 63/100\n",
            "5/5 [==============================] - 0s 10ms/step - loss: 0.1209 - mse: 0.1209 - val_loss: 0.9180 - val_mse: 0.9180\n",
            "Epoch 64/100\n",
            "5/5 [==============================] - 0s 13ms/step - loss: 0.1215 - mse: 0.1215 - val_loss: 0.9070 - val_mse: 0.9070\n",
            "Epoch 65/100\n",
            "5/5 [==============================] - 0s 11ms/step - loss: 0.0990 - mse: 0.0990 - val_loss: 1.0105 - val_mse: 1.0105\n",
            "Epoch 66/100\n",
            "5/5 [==============================] - 0s 10ms/step - loss: 0.0971 - mse: 0.0971 - val_loss: 0.9641 - val_mse: 0.9641\n",
            "Epoch 67/100\n",
            "5/5 [==============================] - 0s 11ms/step - loss: 0.0922 - mse: 0.0922 - val_loss: 0.9482 - val_mse: 0.9482\n",
            "Epoch 68/100\n",
            "5/5 [==============================] - 0s 11ms/step - loss: 0.1170 - mse: 0.1170 - val_loss: 0.9004 - val_mse: 0.9004\n",
            "Epoch 69/100\n",
            "5/5 [==============================] - 0s 11ms/step - loss: 0.1042 - mse: 0.1042 - val_loss: 0.9018 - val_mse: 0.9018\n",
            "Epoch 70/100\n",
            "5/5 [==============================] - 0s 12ms/step - loss: 0.1116 - mse: 0.1116 - val_loss: 0.9395 - val_mse: 0.9395\n",
            "Epoch 71/100\n",
            "5/5 [==============================] - 0s 13ms/step - loss: 0.0893 - mse: 0.0893 - val_loss: 0.9309 - val_mse: 0.9309\n",
            "Epoch 72/100\n",
            "5/5 [==============================] - 0s 15ms/step - loss: 0.0758 - mse: 0.0758 - val_loss: 0.9890 - val_mse: 0.9890\n",
            "Epoch 73/100\n",
            "5/5 [==============================] - 0s 11ms/step - loss: 0.0713 - mse: 0.0713 - val_loss: 1.0417 - val_mse: 1.0417\n",
            "Epoch 74/100\n",
            "5/5 [==============================] - 0s 14ms/step - loss: 0.0695 - mse: 0.0695 - val_loss: 0.9714 - val_mse: 0.9714\n",
            "Epoch 75/100\n",
            "5/5 [==============================] - 0s 11ms/step - loss: 0.0611 - mse: 0.0611 - val_loss: 1.0096 - val_mse: 1.0096\n",
            "Epoch 76/100\n",
            "5/5 [==============================] - 0s 11ms/step - loss: 0.0580 - mse: 0.0580 - val_loss: 1.0587 - val_mse: 1.0587\n",
            "Epoch 77/100\n",
            "5/5 [==============================] - 0s 11ms/step - loss: 0.0520 - mse: 0.0520 - val_loss: 1.0741 - val_mse: 1.0741\n",
            "Epoch 78/100\n",
            "5/5 [==============================] - 0s 11ms/step - loss: 0.0538 - mse: 0.0538 - val_loss: 1.0497 - val_mse: 1.0497\n",
            "Epoch 79/100\n",
            "5/5 [==============================] - 0s 10ms/step - loss: 0.0472 - mse: 0.0472 - val_loss: 1.0800 - val_mse: 1.0800\n",
            "Epoch 80/100\n",
            "5/5 [==============================] - 0s 11ms/step - loss: 0.0520 - mse: 0.0520 - val_loss: 1.0280 - val_mse: 1.0280\n",
            "Epoch 81/100\n",
            "5/5 [==============================] - 0s 11ms/step - loss: 0.0640 - mse: 0.0640 - val_loss: 0.9266 - val_mse: 0.9266\n",
            "Epoch 82/100\n",
            "5/5 [==============================] - 0s 11ms/step - loss: 0.0613 - mse: 0.0613 - val_loss: 0.9726 - val_mse: 0.9726\n",
            "Epoch 83/100\n",
            "5/5 [==============================] - 0s 12ms/step - loss: 0.0597 - mse: 0.0597 - val_loss: 0.9226 - val_mse: 0.9226\n",
            "Epoch 84/100\n",
            "5/5 [==============================] - 0s 11ms/step - loss: 0.0534 - mse: 0.0534 - val_loss: 1.0107 - val_mse: 1.0107\n",
            "Epoch 85/100\n",
            "5/5 [==============================] - 0s 11ms/step - loss: 0.0519 - mse: 0.0519 - val_loss: 1.0481 - val_mse: 1.0481\n",
            "Epoch 86/100\n",
            "5/5 [==============================] - 0s 12ms/step - loss: 0.0534 - mse: 0.0534 - val_loss: 1.2017 - val_mse: 1.2017\n",
            "Epoch 87/100\n",
            "5/5 [==============================] - 0s 11ms/step - loss: 0.0587 - mse: 0.0587 - val_loss: 1.1232 - val_mse: 1.1232\n",
            "Epoch 88/100\n",
            "5/5 [==============================] - 0s 10ms/step - loss: 0.0502 - mse: 0.0502 - val_loss: 1.0112 - val_mse: 1.0112\n",
            "Epoch 89/100\n",
            "5/5 [==============================] - 0s 10ms/step - loss: 0.0353 - mse: 0.0353 - val_loss: 1.0348 - val_mse: 1.0348\n",
            "Epoch 90/100\n",
            "5/5 [==============================] - 0s 11ms/step - loss: 0.0347 - mse: 0.0347 - val_loss: 0.9807 - val_mse: 0.9807\n",
            "Epoch 91/100\n",
            "5/5 [==============================] - 0s 10ms/step - loss: 0.0314 - mse: 0.0314 - val_loss: 1.0191 - val_mse: 1.0191\n",
            "Epoch 92/100\n",
            "5/5 [==============================] - 0s 11ms/step - loss: 0.0338 - mse: 0.0338 - val_loss: 1.0659 - val_mse: 1.0659\n",
            "Epoch 93/100\n",
            "5/5 [==============================] - 0s 13ms/step - loss: 0.0419 - mse: 0.0419 - val_loss: 0.9813 - val_mse: 0.9813\n",
            "Epoch 94/100\n",
            "5/5 [==============================] - 0s 11ms/step - loss: 0.0486 - mse: 0.0486 - val_loss: 0.9805 - val_mse: 0.9805\n",
            "Epoch 95/100\n",
            "5/5 [==============================] - 0s 10ms/step - loss: 0.0606 - mse: 0.0606 - val_loss: 1.0224 - val_mse: 1.0224\n",
            "Epoch 96/100\n",
            "5/5 [==============================] - 0s 11ms/step - loss: 0.0436 - mse: 0.0436 - val_loss: 0.9802 - val_mse: 0.9802\n",
            "Epoch 97/100\n",
            "5/5 [==============================] - 0s 10ms/step - loss: 0.0409 - mse: 0.0409 - val_loss: 1.0238 - val_mse: 1.0238\n",
            "Epoch 98/100\n",
            "5/5 [==============================] - 0s 11ms/step - loss: 0.0454 - mse: 0.0454 - val_loss: 0.9981 - val_mse: 0.9981\n",
            "Epoch 99/100\n",
            "5/5 [==============================] - 0s 11ms/step - loss: 0.0372 - mse: 0.0372 - val_loss: 1.0717 - val_mse: 1.0717\n",
            "Epoch 100/100\n",
            "5/5 [==============================] - 0s 11ms/step - loss: 0.0363 - mse: 0.0363 - val_loss: 1.0224 - val_mse: 1.0224\n"
          ],
          "name": "stdout"
        }
      ]
    },
    {
      "cell_type": "code",
      "metadata": {
        "id": "_jj9wsFFeaJp",
        "colab_type": "code",
        "colab": {
          "base_uri": "https://localhost:8080/",
          "height": 51
        },
        "outputId": "2ebc51a7-c85e-4827-bf0a-f91b4df21d1f"
      },
      "source": [
        "# Evaluate the model on the test set\n",
        "\n",
        "model.evaluate(test_data, test_target)"
      ],
      "execution_count": 120,
      "outputs": [
        {
          "output_type": "stream",
          "text": [
            "2/2 [==============================] - 0s 3ms/step - loss: 0.5423 - mse: 0.5423\n"
          ],
          "name": "stdout"
        },
        {
          "output_type": "execute_result",
          "data": {
            "text/plain": [
              "[0.5422757267951965, 0.5422757267951965]"
            ]
          },
          "metadata": {
            "tags": []
          },
          "execution_count": 120
        }
      ]
    },
    {
      "cell_type": "markdown",
      "metadata": {
        "id": "zp5dBZNgeaJr",
        "colab_type": "text"
      },
      "source": [
        "#### Plot the learning curves"
      ]
    },
    {
      "cell_type": "code",
      "metadata": {
        "id": "6D--Tm66eaJs",
        "colab_type": "code",
        "colab": {}
      },
      "source": [
        "import matplotlib.pyplot as plt\n",
        "%matplotlib inline"
      ],
      "execution_count": 0,
      "outputs": []
    },
    {
      "cell_type": "code",
      "metadata": {
        "id": "EdQ7fatweaJv",
        "colab_type": "code",
        "colab": {
          "base_uri": "https://localhost:8080/",
          "height": 295
        },
        "outputId": "871e2b8b-5e4c-47bb-e736-94ebfe75da25"
      },
      "source": [
        "# Plot the training and validation loss\n",
        "\n",
        "plt.plot(history.history['loss'])\n",
        "plt.plot(history.history['val_loss'])\n",
        "plt.title('Loss vs. epochs')\n",
        "plt.ylabel('Loss')\n",
        "plt.xlabel('Epoch')\n",
        "plt.legend(['Training', 'Validation'], loc='upper right')\n",
        "plt.show()"
      ],
      "execution_count": 122,
      "outputs": [
        {
          "output_type": "display_data",
          "data": {
            "image/png": "[encoded data removed]",
            "text/plain": [
              "<Figure size 432x288 with 1 Axes>"
            ]
          },
          "metadata": {
            "tags": [],
            "needs_background": "light"
          }
        }
      ]
    },
    {
      "cell_type": "markdown",
      "metadata": {
        "id": "gYusmfvueaJx",
        "colab_type": "text"
      },
      "source": [
        "***\n",
        "<a id=\"coding_tutorial_2\"></a>\n",
        "## Model regularisation"
      ]
    },
    {
      "cell_type": "markdown",
      "metadata": {
        "id": "-OjGjkSUeaJy",
        "colab_type": "text"
      },
      "source": [
        "#### Adding regularisation with weight decay and dropout"
      ]
    },
    {
      "cell_type": "code",
      "metadata": {
        "id": "Oei50a--eaJy",
        "colab_type": "code",
        "colab": {}
      },
      "source": [
        "from tensorflow.keras.layers import Dropout\n",
        "from tensorflow.keras import regularizers"
      ],
      "execution_count": 0,
      "outputs": []
    },
    {
      "cell_type": "code",
      "metadata": {
        "id": "WaA_Wy9geaJ1",
        "colab_type": "code",
        "colab": {}
      },
      "source": [
        "def get_regularised_model(wd, rate):\n",
        "    model = Sequential([\n",
        "        Dense(128, activation=\"relu\", input_shape=(train_data.shape[1],), kernel_regularizer=tf.keras.regularizers.l1_l2(wd)),\n",
        "        Dense(128, activation=\"relu\", kernel_regularizer=tf.keras.regularizers.l1_l2(wd)),\n",
        "        Dense(128, activation=\"relu\", kernel_regularizer=tf.keras.regularizers.l1_l2(wd)),\n",
        "        Dropout(rate),\n",
        "        Dense(128, activation=\"relu\", kernel_regularizer=tf.keras.regularizers.l1_l2(wd)),\n",
        "        Dropout(rate),\n",
        "        Dense(128, activation=\"relu\", kernel_regularizer=tf.keras.regularizers.l1_l2(wd)),\n",
        "        Dropout(rate),\n",
        "        Dense(128, activation=\"relu\", kernel_regularizer=tf.keras.regularizers.l1_l2(wd)),\n",
        "        Dropout(rate),\n",
        "        Dense(1)\n",
        "    ])\n",
        "    return model"
      ],
      "execution_count": 0,
      "outputs": []
    },
    {
      "cell_type": "code",
      "metadata": {
        "id": "EQPLqdQ_eaJ3",
        "colab_type": "code",
        "colab": {
          "base_uri": "https://localhost:8080/",
          "height": 527
        },
        "outputId": "0f42a05a-11c6-42ce-e4ce-76bbb64666f6"
      },
      "source": [
        "# Re-build the model with weight decay and dropout layers\n",
        "model = get_regularised_model(1e-5, 0.3)\n",
        "model.summary()\n"
      ],
      "execution_count": 151,
      "outputs": [
        {
          "output_type": "stream",
          "text": [
            "Model: \"sequential_15\"\n",
            "_________________________________________________________________\n",
            "Layer (type)                 Output Shape              Param #   \n",
            "=================================================================\n",
            "dense_94 (Dense)             (None, 128)               1408      \n",
            "_________________________________________________________________\n",
            "dense_95 (Dense)             (None, 128)               16512     \n",
            "_________________________________________________________________\n",
            "dense_96 (Dense)             (None, 128)               16512     \n",
            "_________________________________________________________________\n",
            "dropout_11 (Dropout)         (None, 128)               0         \n",
            "_________________________________________________________________\n",
            "dense_97 (Dense)             (None, 128)               16512     \n",
            "_________________________________________________________________\n",
            "dropout_12 (Dropout)         (None, 128)               0         \n",
            "_________________________________________________________________\n",
            "dense_98 (Dense)             (None, 128)               16512     \n",
            "_________________________________________________________________\n",
            "dropout_13 (Dropout)         (None, 128)               0         \n",
            "_________________________________________________________________\n",
            "dense_99 (Dense)             (None, 128)               16512     \n",
            "_________________________________________________________________\n",
            "dropout_14 (Dropout)         (None, 128)               0         \n",
            "_________________________________________________________________\n",
            "dense_100 (Dense)            (None, 1)                 129       \n",
            "=================================================================\n",
            "Total params: 84,097\n",
            "Trainable params: 84,097\n",
            "Non-trainable params: 0\n",
            "_________________________________________________________________\n"
          ],
          "name": "stdout"
        }
      ]
    },
    {
      "cell_type": "code",
      "metadata": {
        "id": "UB28Vw0AeaJ5",
        "colab_type": "code",
        "colab": {}
      },
      "source": [
        "# Compile the model\n",
        "model.compile(optimizer='adam', loss = 'mse', metrics = ['mse'])\n",
        "\n"
      ],
      "execution_count": 0,
      "outputs": []
    },
    {
      "cell_type": "code",
      "metadata": {
        "id": "Re0qIUZgeaJ9",
        "colab_type": "code",
        "colab": {
          "base_uri": "https://localhost:8080/",
          "height": 1000
        },
        "outputId": "d159ca19-49aa-4c3c-866c-ab7965d0a82f"
      },
      "source": [
        "# Train the model, with some of the data reserved for validation\n",
        "history = model.fit(train_data, train_target, epochs=100, verbose=True, validation_split=0.25, batch_size=64)\n",
        "\n"
      ],
      "execution_count": 153,
      "outputs": [
        {
          "output_type": "stream",
          "text": [
            "Epoch 1/100\n",
            "5/5 [==============================] - 0s 41ms/step - loss: 7.4486 - mse: 1.0299 - val_loss: 7.0232 - val_mse: 0.9919\n",
            "Epoch 2/100\n",
            "5/5 [==============================] - 0s 10ms/step - loss: 6.8396 - mse: 1.0242 - val_loss: 6.4412 - val_mse: 0.9854\n",
            "Epoch 3/100\n",
            "5/5 [==============================] - 0s 10ms/step - loss: 6.2761 - mse: 1.0199 - val_loss: 5.9042 - val_mse: 0.9797\n",
            "Epoch 4/100\n",
            "5/5 [==============================] - 0s 10ms/step - loss: 5.7525 - mse: 1.0111 - val_loss: 5.4100 - val_mse: 0.9720\n",
            "Epoch 5/100\n",
            "5/5 [==============================] - 0s 10ms/step - loss: 5.2706 - mse: 0.9992 - val_loss: 4.9600 - val_mse: 0.9642\n",
            "Epoch 6/100\n",
            "5/5 [==============================] - 0s 11ms/step - loss: 4.8320 - mse: 0.9873 - val_loss: 4.5307 - val_mse: 0.9352\n",
            "Epoch 7/100\n",
            "5/5 [==============================] - 0s 10ms/step - loss: 4.4210 - mse: 0.9612 - val_loss: 4.1386 - val_mse: 0.9020\n",
            "Epoch 8/100\n",
            "5/5 [==============================] - 0s 10ms/step - loss: 4.0320 - mse: 0.9158 - val_loss: 3.7736 - val_mse: 0.8545\n",
            "Epoch 9/100\n",
            "5/5 [==============================] - 0s 10ms/step - loss: 3.6583 - mse: 0.8452 - val_loss: 3.4165 - val_mse: 0.7765\n",
            "Epoch 10/100\n",
            "5/5 [==============================] - 0s 11ms/step - loss: 3.2974 - mse: 0.7496 - val_loss: 3.0826 - val_mse: 0.6849\n",
            "Epoch 11/100\n",
            "5/5 [==============================] - 0s 10ms/step - loss: 2.9677 - mse: 0.6506 - val_loss: 2.8165 - val_mse: 0.6318\n",
            "Epoch 12/100\n",
            "5/5 [==============================] - 0s 10ms/step - loss: 2.7165 - mse: 0.6060 - val_loss: 2.5380 - val_mse: 0.5532\n",
            "Epoch 13/100\n",
            "5/5 [==============================] - 0s 10ms/step - loss: 2.4932 - mse: 0.5801 - val_loss: 2.4286 - val_mse: 0.6317\n",
            "Epoch 14/100\n",
            "5/5 [==============================] - 0s 10ms/step - loss: 2.3144 - mse: 0.5821 - val_loss: 2.1718 - val_mse: 0.5466\n",
            "Epoch 15/100\n",
            "5/5 [==============================] - 0s 10ms/step - loss: 2.1445 - mse: 0.5771 - val_loss: 2.0306 - val_mse: 0.5588\n",
            "Epoch 16/100\n",
            "5/5 [==============================] - 0s 9ms/step - loss: 1.9961 - mse: 0.5762 - val_loss: 1.8777 - val_mse: 0.5419\n",
            "Epoch 17/100\n",
            "5/5 [==============================] - 0s 11ms/step - loss: 1.8570 - mse: 0.5646 - val_loss: 1.7950 - val_mse: 0.5749\n",
            "Epoch 18/100\n",
            "5/5 [==============================] - 0s 10ms/step - loss: 1.7519 - mse: 0.5721 - val_loss: 1.6484 - val_mse: 0.5333\n",
            "Epoch 19/100\n",
            "5/5 [==============================] - 0s 9ms/step - loss: 1.6414 - mse: 0.5599 - val_loss: 1.6309 - val_mse: 0.6070\n",
            "Epoch 20/100\n",
            "5/5 [==============================] - 0s 10ms/step - loss: 1.5395 - mse: 0.5488 - val_loss: 1.4705 - val_mse: 0.5354\n",
            "Epoch 21/100\n",
            "5/5 [==============================] - 0s 10ms/step - loss: 1.4396 - mse: 0.5344 - val_loss: 1.4249 - val_mse: 0.5689\n",
            "Epoch 22/100\n",
            "5/5 [==============================] - 0s 10ms/step - loss: 1.3732 - mse: 0.5441 - val_loss: 1.3326 - val_mse: 0.5484\n",
            "Epoch 23/100\n",
            "5/5 [==============================] - 0s 10ms/step - loss: 1.3026 - mse: 0.5429 - val_loss: 1.2552 - val_mse: 0.5357\n",
            "Epoch 24/100\n",
            "5/5 [==============================] - 0s 9ms/step - loss: 1.2738 - mse: 0.5766 - val_loss: 1.2117 - val_mse: 0.5502\n",
            "Epoch 25/100\n",
            "5/5 [==============================] - 0s 10ms/step - loss: 1.2081 - mse: 0.5653 - val_loss: 1.1676 - val_mse: 0.5547\n",
            "Epoch 26/100\n",
            "5/5 [==============================] - 0s 10ms/step - loss: 1.1453 - mse: 0.5490 - val_loss: 1.0913 - val_mse: 0.5225\n",
            "Epoch 27/100\n",
            "5/5 [==============================] - 0s 11ms/step - loss: 1.0962 - mse: 0.5428 - val_loss: 1.0559 - val_mse: 0.5276\n",
            "Epoch 28/100\n",
            "5/5 [==============================] - 0s 10ms/step - loss: 1.0429 - mse: 0.5289 - val_loss: 1.0315 - val_mse: 0.5408\n",
            "Epoch 29/100\n",
            "5/5 [==============================] - 0s 9ms/step - loss: 1.0426 - mse: 0.5645 - val_loss: 0.9932 - val_mse: 0.5355\n",
            "Epoch 30/100\n",
            "5/5 [==============================] - 0s 9ms/step - loss: 0.9940 - mse: 0.5477 - val_loss: 0.9687 - val_mse: 0.5425\n",
            "Epoch 31/100\n",
            "5/5 [==============================] - 0s 9ms/step - loss: 0.9425 - mse: 0.5274 - val_loss: 0.9276 - val_mse: 0.5294\n",
            "Epoch 32/100\n",
            "5/5 [==============================] - 0s 10ms/step - loss: 0.9166 - mse: 0.5273 - val_loss: 0.9165 - val_mse: 0.5414\n",
            "Epoch 33/100\n",
            "5/5 [==============================] - 0s 12ms/step - loss: 0.9165 - mse: 0.5488 - val_loss: 0.8717 - val_mse: 0.5156\n",
            "Epoch 34/100\n",
            "5/5 [==============================] - 0s 10ms/step - loss: 0.8984 - mse: 0.5482 - val_loss: 0.8664 - val_mse: 0.5279\n",
            "Epoch 35/100\n",
            "5/5 [==============================] - 0s 10ms/step - loss: 0.8758 - mse: 0.5451 - val_loss: 0.8383 - val_mse: 0.5197\n",
            "Epoch 36/100\n",
            "5/5 [==============================] - 0s 11ms/step - loss: 0.8421 - mse: 0.5302 - val_loss: 0.8725 - val_mse: 0.5703\n",
            "Epoch 37/100\n",
            "5/5 [==============================] - 0s 10ms/step - loss: 0.8304 - mse: 0.5329 - val_loss: 0.8090 - val_mse: 0.5202\n",
            "Epoch 38/100\n",
            "5/5 [==============================] - 0s 10ms/step - loss: 0.8355 - mse: 0.5515 - val_loss: 0.7996 - val_mse: 0.5229\n",
            "Epoch 39/100\n",
            "5/5 [==============================] - 0s 10ms/step - loss: 0.8008 - mse: 0.5281 - val_loss: 0.8129 - val_mse: 0.5465\n",
            "Epoch 40/100\n",
            "5/5 [==============================] - 0s 10ms/step - loss: 0.7884 - mse: 0.5260 - val_loss: 0.7792 - val_mse: 0.5240\n",
            "Epoch 41/100\n",
            "5/5 [==============================] - 0s 11ms/step - loss: 0.7755 - mse: 0.5237 - val_loss: 0.7888 - val_mse: 0.5417\n",
            "Epoch 42/100\n",
            "5/5 [==============================] - 0s 10ms/step - loss: 0.7734 - mse: 0.5288 - val_loss: 0.7533 - val_mse: 0.5148\n",
            "Epoch 43/100\n",
            "5/5 [==============================] - 0s 10ms/step - loss: 0.7941 - mse: 0.5585 - val_loss: 0.7805 - val_mse: 0.5478\n",
            "Epoch 44/100\n",
            "5/5 [==============================] - 0s 10ms/step - loss: 0.8094 - mse: 0.5777 - val_loss: 0.7544 - val_mse: 0.5280\n",
            "Epoch 45/100\n",
            "5/5 [==============================] - 0s 9ms/step - loss: 0.8202 - mse: 0.5979 - val_loss: 0.7421 - val_mse: 0.5245\n",
            "Epoch 46/100\n",
            "5/5 [==============================] - 0s 11ms/step - loss: 0.7965 - mse: 0.5799 - val_loss: 0.8047 - val_mse: 0.5923\n",
            "Epoch 47/100\n",
            "5/5 [==============================] - 0s 10ms/step - loss: 0.7273 - mse: 0.5179 - val_loss: 0.7510 - val_mse: 0.5459\n",
            "Epoch 48/100\n",
            "5/5 [==============================] - 0s 10ms/step - loss: 0.7776 - mse: 0.5731 - val_loss: 0.7949 - val_mse: 0.5908\n",
            "Epoch 49/100\n",
            "5/5 [==============================] - 0s 10ms/step - loss: 0.7496 - mse: 0.5461 - val_loss: 0.7638 - val_mse: 0.5628\n",
            "Epoch 50/100\n",
            "5/5 [==============================] - 0s 9ms/step - loss: 0.7114 - mse: 0.5123 - val_loss: 0.7207 - val_mse: 0.5245\n",
            "Epoch 51/100\n",
            "5/5 [==============================] - 0s 10ms/step - loss: 0.7225 - mse: 0.5270 - val_loss: 0.7473 - val_mse: 0.5529\n",
            "Epoch 52/100\n",
            "5/5 [==============================] - 0s 10ms/step - loss: 0.7045 - mse: 0.5111 - val_loss: 0.7195 - val_mse: 0.5277\n",
            "Epoch 53/100\n",
            "5/5 [==============================] - 0s 10ms/step - loss: 0.7267 - mse: 0.5362 - val_loss: 0.6993 - val_mse: 0.5118\n",
            "Epoch 54/100\n",
            "5/5 [==============================] - 0s 10ms/step - loss: 0.7054 - mse: 0.5199 - val_loss: 0.7095 - val_mse: 0.5258\n",
            "Epoch 55/100\n",
            "5/5 [==============================] - 0s 10ms/step - loss: 0.7160 - mse: 0.5333 - val_loss: 0.7238 - val_mse: 0.5433\n",
            "Epoch 56/100\n",
            "5/5 [==============================] - 0s 11ms/step - loss: 0.7047 - mse: 0.5260 - val_loss: 0.6830 - val_mse: 0.5068\n",
            "Epoch 57/100\n",
            "5/5 [==============================] - 0s 10ms/step - loss: 0.7092 - mse: 0.5334 - val_loss: 0.7185 - val_mse: 0.5431\n",
            "Epoch 58/100\n",
            "5/5 [==============================] - 0s 11ms/step - loss: 0.7040 - mse: 0.5295 - val_loss: 0.6897 - val_mse: 0.5158\n",
            "Epoch 59/100\n",
            "5/5 [==============================] - 0s 9ms/step - loss: 0.7000 - mse: 0.5263 - val_loss: 0.6898 - val_mse: 0.5170\n",
            "Epoch 60/100\n",
            "5/5 [==============================] - 0s 9ms/step - loss: 0.6638 - mse: 0.4918 - val_loss: 0.6828 - val_mse: 0.5115\n",
            "Epoch 61/100\n",
            "5/5 [==============================] - 0s 10ms/step - loss: 0.6873 - mse: 0.5163 - val_loss: 0.6895 - val_mse: 0.5201\n",
            "Epoch 62/100\n",
            "5/5 [==============================] - 0s 9ms/step - loss: 0.7069 - mse: 0.5388 - val_loss: 0.6876 - val_mse: 0.5205\n",
            "Epoch 63/100\n",
            "5/5 [==============================] - 0s 10ms/step - loss: 0.7303 - mse: 0.5640 - val_loss: 0.6936 - val_mse: 0.5290\n",
            "Epoch 64/100\n",
            "5/5 [==============================] - 0s 10ms/step - loss: 0.7073 - mse: 0.5427 - val_loss: 0.6920 - val_mse: 0.5255\n",
            "Epoch 65/100\n",
            "5/5 [==============================] - 0s 12ms/step - loss: 0.6815 - mse: 0.5148 - val_loss: 0.7178 - val_mse: 0.5511\n",
            "Epoch 66/100\n",
            "5/5 [==============================] - 0s 10ms/step - loss: 0.7252 - mse: 0.5592 - val_loss: 0.6836 - val_mse: 0.5181\n",
            "Epoch 67/100\n",
            "5/5 [==============================] - 0s 10ms/step - loss: 0.6605 - mse: 0.4959 - val_loss: 0.7210 - val_mse: 0.5578\n",
            "Epoch 68/100\n",
            "5/5 [==============================] - 0s 10ms/step - loss: 0.7054 - mse: 0.5435 - val_loss: 0.6734 - val_mse: 0.5133\n",
            "Epoch 69/100\n",
            "5/5 [==============================] - 0s 10ms/step - loss: 0.7004 - mse: 0.5418 - val_loss: 0.6820 - val_mse: 0.5237\n",
            "Epoch 70/100\n",
            "5/5 [==============================] - 0s 10ms/step - loss: 0.6659 - mse: 0.5071 - val_loss: 0.6790 - val_mse: 0.5206\n",
            "Epoch 71/100\n",
            "5/5 [==============================] - 0s 10ms/step - loss: 0.6633 - mse: 0.5051 - val_loss: 0.6642 - val_mse: 0.5066\n",
            "Epoch 72/100\n",
            "5/5 [==============================] - 0s 10ms/step - loss: 0.6624 - mse: 0.5040 - val_loss: 0.6893 - val_mse: 0.5305\n",
            "Epoch 73/100\n",
            "5/5 [==============================] - 0s 10ms/step - loss: 0.6756 - mse: 0.5171 - val_loss: 0.6639 - val_mse: 0.5064\n",
            "Epoch 74/100\n",
            "5/5 [==============================] - 0s 10ms/step - loss: 0.6667 - mse: 0.5101 - val_loss: 0.6798 - val_mse: 0.5233\n",
            "Epoch 75/100\n",
            "5/5 [==============================] - 0s 11ms/step - loss: 0.6646 - mse: 0.5086 - val_loss: 0.6766 - val_mse: 0.5206\n",
            "Epoch 76/100\n",
            "5/5 [==============================] - 0s 11ms/step - loss: 0.6966 - mse: 0.5403 - val_loss: 0.6600 - val_mse: 0.5047\n",
            "Epoch 77/100\n",
            "5/5 [==============================] - 0s 10ms/step - loss: 0.6848 - mse: 0.5297 - val_loss: 0.6816 - val_mse: 0.5266\n",
            "Epoch 78/100\n",
            "5/5 [==============================] - 0s 10ms/step - loss: 0.6695 - mse: 0.5147 - val_loss: 0.6607 - val_mse: 0.5068\n",
            "Epoch 79/100\n",
            "5/5 [==============================] - 0s 10ms/step - loss: 0.6688 - mse: 0.5149 - val_loss: 0.7222 - val_mse: 0.5673\n",
            "Epoch 80/100\n",
            "5/5 [==============================] - 0s 9ms/step - loss: 0.6814 - mse: 0.5270 - val_loss: 0.6681 - val_mse: 0.5139\n",
            "Epoch 81/100\n",
            "5/5 [==============================] - 0s 10ms/step - loss: 0.6730 - mse: 0.5177 - val_loss: 0.6766 - val_mse: 0.5206\n",
            "Epoch 82/100\n",
            "5/5 [==============================] - 0s 10ms/step - loss: 0.6614 - mse: 0.5058 - val_loss: 0.6594 - val_mse: 0.5057\n",
            "Epoch 83/100\n",
            "5/5 [==============================] - 0s 10ms/step - loss: 0.6890 - mse: 0.5361 - val_loss: 0.6980 - val_mse: 0.5450\n",
            "Epoch 84/100\n",
            "5/5 [==============================] - 0s 9ms/step - loss: 0.6664 - mse: 0.5133 - val_loss: 0.6574 - val_mse: 0.5059\n",
            "Epoch 85/100\n",
            "5/5 [==============================] - 0s 11ms/step - loss: 0.6709 - mse: 0.5194 - val_loss: 0.6866 - val_mse: 0.5333\n",
            "Epoch 86/100\n",
            "5/5 [==============================] - 0s 63ms/step - loss: 0.6625 - mse: 0.5088 - val_loss: 0.6688 - val_mse: 0.5146\n",
            "Epoch 87/100\n",
            "5/5 [==============================] - 0s 10ms/step - loss: 0.6626 - mse: 0.5089 - val_loss: 0.6765 - val_mse: 0.5227\n",
            "Epoch 88/100\n",
            "5/5 [==============================] - 0s 10ms/step - loss: 0.6671 - mse: 0.5126 - val_loss: 0.6612 - val_mse: 0.5075\n",
            "Epoch 89/100\n",
            "5/5 [==============================] - 0s 11ms/step - loss: 0.6717 - mse: 0.5178 - val_loss: 0.6581 - val_mse: 0.5061\n",
            "Epoch 90/100\n",
            "5/5 [==============================] - 0s 10ms/step - loss: 0.6527 - mse: 0.5010 - val_loss: 0.6590 - val_mse: 0.5078\n",
            "Epoch 91/100\n",
            "5/5 [==============================] - 0s 9ms/step - loss: 0.6623 - mse: 0.5113 - val_loss: 0.6527 - val_mse: 0.5029\n",
            "Epoch 92/100\n",
            "5/5 [==============================] - 0s 10ms/step - loss: 0.6517 - mse: 0.5012 - val_loss: 0.6644 - val_mse: 0.5129\n",
            "Epoch 93/100\n",
            "5/5 [==============================] - 0s 9ms/step - loss: 0.6467 - mse: 0.4955 - val_loss: 0.6662 - val_mse: 0.5139\n",
            "Epoch 94/100\n",
            "5/5 [==============================] - 0s 10ms/step - loss: 0.6515 - mse: 0.4985 - val_loss: 0.6595 - val_mse: 0.5074\n",
            "Epoch 95/100\n",
            "5/5 [==============================] - 0s 12ms/step - loss: 0.6924 - mse: 0.5413 - val_loss: 0.6627 - val_mse: 0.5131\n",
            "Epoch 96/100\n",
            "5/5 [==============================] - 0s 10ms/step - loss: 0.6501 - mse: 0.5009 - val_loss: 0.6530 - val_mse: 0.5039\n",
            "Epoch 97/100\n",
            "5/5 [==============================] - 0s 9ms/step - loss: 0.6810 - mse: 0.5304 - val_loss: 0.6628 - val_mse: 0.5112\n",
            "Epoch 98/100\n",
            "5/5 [==============================] - 0s 10ms/step - loss: 0.6565 - mse: 0.5051 - val_loss: 0.6514 - val_mse: 0.5011\n",
            "Epoch 99/100\n",
            "5/5 [==============================] - 0s 10ms/step - loss: 0.6676 - mse: 0.5171 - val_loss: 0.6846 - val_mse: 0.5341\n",
            "Epoch 100/100\n",
            "5/5 [==============================] - 0s 11ms/step - loss: 0.6613 - mse: 0.5106 - val_loss: 0.6620 - val_mse: 0.5112\n"
          ],
          "name": "stdout"
        }
      ]
    },
    {
      "cell_type": "code",
      "metadata": {
        "id": "DroQnCvHeaJ_",
        "colab_type": "code",
        "colab": {
          "base_uri": "https://localhost:8080/",
          "height": 51
        },
        "outputId": "c03b5d8d-ff72-42cc-8dec-7cba5699b0dc"
      },
      "source": [
        "# Evaluate the model on the test set\n",
        "model.evaluate(test_data, test_target)\n"
      ],
      "execution_count": 154,
      "outputs": [
        {
          "output_type": "stream",
          "text": [
            "2/2 [==============================] - 0s 3ms/step - loss: 0.4488 - mse: 0.2981\n"
          ],
          "name": "stdout"
        },
        {
          "output_type": "execute_result",
          "data": {
            "text/plain": [
              "[0.44877904653549194, 0.29805195331573486]"
            ]
          },
          "metadata": {
            "tags": []
          },
          "execution_count": 154
        }
      ]
    },
    {
      "cell_type": "markdown",
      "metadata": {
        "id": "M1q_SqnneaKB",
        "colab_type": "text"
      },
      "source": [
        "#### Plot the learning curves"
      ]
    },
    {
      "cell_type": "code",
      "metadata": {
        "id": "otFUQHKWeaKC",
        "colab_type": "code",
        "colab": {}
      },
      "source": [
        "# Plot the training and validation loss\n",
        "\n",
        "import matplotlib.pyplot as plt\n",
        "\n",
        "plt.plot(history.history['loss'])\n",
        "plt.plot(history.history['val_loss'])\n",
        "plt.title('Loss vs. epochs')\n",
        "plt.ylabel('Loss')\n",
        "plt.xlabel('Epoch')\n",
        "plt.legend(['Training', 'Validation'], loc='upper right')\n",
        "plt.show()"
      ],
      "execution_count": 0,
      "outputs": []
    },
    {
      "cell_type": "markdown",
      "metadata": {
        "id": "EnrmyXlWeaKD",
        "colab_type": "text"
      },
      "source": [
        "***\n",
        "<a id=\"coding_tutorial_3\"></a>\n",
        "## Introduction to callbacks"
      ]
    },
    {
      "cell_type": "markdown",
      "metadata": {
        "id": "Wod_grHfeaKE",
        "colab_type": "text"
      },
      "source": [
        "#### Example training callback"
      ]
    },
    {
      "cell_type": "code",
      "metadata": {
        "id": "OBMkQ73AEBMd",
        "colab_type": "code",
        "colab": {}
      },
      "source": [
        "def on_train_begin(self, logs=None):\n",
        "      # Do something\n",
        "\n",
        "    def on_train_batch_begin(self, batch, logs=None):\n",
        "      # DO Something\n",
        "\n",
        "    def on_epoch_end(self, epoch, logs={}):\n",
        "        if logs.get('loss') < 0.1:\n",
        "            print(\"\\nReached loss less than 0.4 so cancelling training!\")\n",
        "            self.model.stop_training = True"
      ],
      "execution_count": 0,
      "outputs": []
    },
    {
      "cell_type": "code",
      "metadata": {
        "id": "pDSP253leaKE",
        "colab_type": "code",
        "colab": {}
      },
      "source": [
        "# Write a custom callback\n",
        "from tensorflow.keras.callbacks import Callback\n",
        "\n",
        "class TrainingCallback(Callback):\n",
        "  def on_train_begin(self, logs=None):\n",
        "    print(\"String training...\")\n",
        "  def on_epoch_begin(self, epoch, logs=None):\n",
        "    print(f\"Starting epoch {epoch} \")\n",
        "  def on_train_batch_begin(self, batch, logs=None):\n",
        "    print(f\"Staring batch {batch}\")\n",
        "  def on_train_batch_end(self, batch, logs=None):\n",
        "    print(f\"Ending batch {batch}\")\n",
        "  def on_epoch_end(self, epoch, logs=None):\n",
        "    print(f\"Ending epoch {epoch} \")\n",
        "  def on_train_end(self, logs=None):\n",
        "    print(\"Ending training...\")\n",
        "\n",
        "\n",
        "class TestingCallback(Callback):\n",
        "  def on_test_begin(self, logs=None):\n",
        "    print(\"String testing...\")\n",
        "  def on_test_batch_begin(self, batch, logs=None):\n",
        "    print(f\"Staring batch {batch}\")\n",
        "  def on_test_batch_end(self, batch, logs=None):\n",
        "    print(f\"Ending batch {batch}\")\n",
        "  def on_test_end(self, logs=None):\n",
        "    print(\"Ending testing...\")\n",
        "\n",
        "class PredictionCallback(Callback):\n",
        "  def on_predict_begin(self, logs=None):\n",
        "    print(\"String Predicting...\")\n",
        "  def on_predict_batch_begin(self, batch, logs=None):\n",
        "    print(f\"Staring batch {batch}\")\n",
        "  def on_predict_batch_end(self, batch, logs=None):\n",
        "    print(f\"Ending batch {batch}\")\n",
        "  def on_predict_end(self, logs=None):\n",
        "    print(\"Ending Predicting...\")"
      ],
      "execution_count": 0,
      "outputs": []
    },
    {
      "cell_type": "code",
      "metadata": {
        "id": "8K2Mz625eaKG",
        "colab_type": "code",
        "colab": {}
      },
      "source": [
        "# Re-build the model\n",
        "model = get_regularised_model(1e-5, 0.3)\n"
      ],
      "execution_count": 0,
      "outputs": []
    },
    {
      "cell_type": "code",
      "metadata": {
        "id": "YXoVgQ2QeaKI",
        "colab_type": "code",
        "colab": {}
      },
      "source": [
        "# Compile the model\n",
        "model.compile(optimizer='adam', loss = 'mse')\n",
        "\n"
      ],
      "execution_count": 0,
      "outputs": []
    },
    {
      "cell_type": "markdown",
      "metadata": {
        "id": "8MY7t6u-eaKK",
        "colab_type": "text"
      },
      "source": [
        "#### Train the model with the callback"
      ]
    },
    {
      "cell_type": "code",
      "metadata": {
        "id": "eGJ4uwYxeaKK",
        "colab_type": "code",
        "colab": {
          "base_uri": "https://localhost:8080/",
          "height": 765
        },
        "outputId": "3c5c8786-fcc9-4945-d81e-31aa939bf3f1"
      },
      "source": [
        "# Train the model, with some of the data reserved for validation\n",
        "\n",
        "history = model.fit(train_data, train_target, epochs=3, verbose=True, validation_split=0.25, batch_size=64, callbacks=TrainingCallback())\n"
      ],
      "execution_count": 166,
      "outputs": [
        {
          "output_type": "stream",
          "text": [
            "String training...\n",
            "Starting epoch 0 \n",
            "Epoch 1/3\n",
            "Staring batch 0\n",
            "Ending batch 0\n",
            "1/5 [=====>........................] - ETA: 0s - loss: 5.7922Staring batch 1\n",
            "Ending batch 1\n",
            "Staring batch 2\n",
            "Ending batch 2\n",
            "Staring batch 3\n",
            "Ending batch 3\n",
            "Staring batch 4\n",
            "Ending batch 4\n",
            "Ending epoch 0 \n",
            "5/5 [==============================] - 0s 13ms/step - loss: 5.7467 - val_loss: 5.4087\n",
            "Starting epoch 1 \n",
            "Epoch 2/3\n",
            "Staring batch 0\n",
            "Ending batch 0\n",
            "1/5 [=====>........................] - ETA: 0s - loss: 5.3024Staring batch 1\n",
            "Ending batch 1\n",
            "Staring batch 2\n",
            "Ending batch 2\n",
            "Staring batch 3\n",
            "Ending batch 3\n",
            "Staring batch 4\n",
            "Ending batch 4\n",
            "Ending epoch 1 \n",
            "5/5 [==============================] - 0s 13ms/step - loss: 5.2684 - val_loss: 4.9534\n",
            "Starting epoch 2 \n",
            "Epoch 3/3\n",
            "Staring batch 0\n",
            "Ending batch 0\n",
            "1/5 [=====>........................] - ETA: 0s - loss: 4.8643Staring batch 1\n",
            "Ending batch 1\n",
            "Staring batch 2\n",
            "Ending batch 2\n",
            "Staring batch 3\n",
            "Ending batch 3\n",
            "Staring batch 4\n",
            "Ending batch 4\n",
            "Ending epoch 2 \n",
            "5/5 [==============================] - 0s 14ms/step - loss: 4.8251 - val_loss: 4.5344\n",
            "Ending training...\n"
          ],
          "name": "stdout"
        }
      ]
    },
    {
      "cell_type": "code",
      "metadata": {
        "id": "kacw9JyBeaKM",
        "colab_type": "code",
        "colab": {
          "base_uri": "https://localhost:8080/",
          "height": 153
        },
        "outputId": "f7654a5b-665a-4f20-de1c-2cf188dd14fa"
      },
      "source": [
        "# Evaluate the model\n",
        "model.evaluate(test_data, test_target, callbacks=TestingCallback())\n",
        "\n"
      ],
      "execution_count": 170,
      "outputs": [
        {
          "output_type": "stream",
          "text": [
            "String testing...\n",
            "Staring batch 0\n",
            "Ending batch 0\n",
            "1/2 [==============>...............] - ETA: 0s - loss: 4.1034Staring batch 1\n",
            "Ending batch 1\n",
            "Ending testing...\n",
            "2/2 [==============================] - 0s 3ms/step - loss: 4.3361\n"
          ],
          "name": "stdout"
        },
        {
          "output_type": "execute_result",
          "data": {
            "text/plain": [
              "4.336143970489502"
            ]
          },
          "metadata": {
            "tags": []
          },
          "execution_count": 170
        }
      ]
    },
    {
      "cell_type": "code",
      "metadata": {
        "id": "HITrUz3BeaKO",
        "colab_type": "code",
        "colab": {
          "base_uri": "https://localhost:8080/",
          "height": 901
        },
        "outputId": "50561db7-a2b9-475b-ca68-e054905f7f5d"
      },
      "source": [
        "# Make predictions with the model\n",
        "\n",
        "model.predict(test_data, verbose = 2, callbacks = PredictionCallback())"
      ],
      "execution_count": 177,
      "outputs": [
        {
          "output_type": "stream",
          "text": [
            "String Predicting...\n",
            "Staring batch 0\n",
            "Ending batch 0\n",
            "Staring batch 1\n",
            "Ending batch 1\n",
            "Ending Predicting...\n",
            "2/2 - 0s\n"
          ],
          "name": "stdout"
        },
        {
          "output_type": "execute_result",
          "data": {
            "text/plain": [
              "array([[ 0.01962936],\n",
              "       [ 0.02418252],\n",
              "       [ 0.06772788],\n",
              "       [ 0.07983747],\n",
              "       [ 0.02997447],\n",
              "       [ 0.00190799],\n",
              "       [ 0.05719713],\n",
              "       [ 0.00299064],\n",
              "       [ 0.06723948],\n",
              "       [ 0.06486434],\n",
              "       [ 0.08883544],\n",
              "       [ 0.06591947],\n",
              "       [ 0.06031504],\n",
              "       [ 0.01213389],\n",
              "       [-0.00393943],\n",
              "       [ 0.06097684],\n",
              "       [ 0.01603856],\n",
              "       [-0.01596471],\n",
              "       [ 0.04897512],\n",
              "       [ 0.00601294],\n",
              "       [ 0.08271262],\n",
              "       [ 0.09782931],\n",
              "       [ 0.09545349],\n",
              "       [-0.01156178],\n",
              "       [ 0.05171742],\n",
              "       [ 0.07227406],\n",
              "       [ 0.06811918],\n",
              "       [ 0.04895307],\n",
              "       [-0.00524805],\n",
              "       [ 0.03379219],\n",
              "       [ 0.08683465],\n",
              "       [ 0.06728247],\n",
              "       [ 0.07472287],\n",
              "       [ 0.01899419],\n",
              "       [ 0.10388301],\n",
              "       [ 0.06231426],\n",
              "       [ 0.05690415],\n",
              "       [ 0.04659983],\n",
              "       [ 0.03802149],\n",
              "       [-0.00556588],\n",
              "       [ 0.07880424],\n",
              "       [ 0.10586664],\n",
              "       [ 0.07274408],\n",
              "       [ 0.04089569],\n",
              "       [-0.012924  ]], dtype=float32)"
            ]
          },
          "metadata": {
            "tags": []
          },
          "execution_count": 177
        }
      ]
    },
    {
      "cell_type": "markdown",
      "metadata": {
        "id": "LbaAE21PeaKQ",
        "colab_type": "text"
      },
      "source": [
        "***\n",
        "<a id=\"coding_tutorial_4\"></a>\n",
        "## Early stopping / patience"
      ]
    },
    {
      "cell_type": "markdown",
      "metadata": {
        "id": "W5bgrSiueaKQ",
        "colab_type": "text"
      },
      "source": [
        "#### Re-train the models with early stopping"
      ]
    },
    {
      "cell_type": "code",
      "metadata": {
        "id": "ybGo_LdteaKR",
        "colab_type": "code",
        "colab": {
          "base_uri": "https://localhost:8080/",
          "height": 289
        },
        "outputId": "ab4cd422-6076-4abb-a932-8919d09c9b1e"
      },
      "source": [
        "# Re-train the unregularised model\n",
        "\n",
        "from tensorflow.keras.callbacks import EarlyStopping\n",
        "# early_stopping = EarlyStopping(monitor='val_accuracy', patience=5, delta=0.01, mode='max')\n",
        "\n",
        "unregularized_model = get_model()\n",
        "unregularized_model.compile(optimizer='adam', loss = 'mse')\n",
        "unreg_history = unregularized_model.fit(train_data, train_target, epochs=100, verbose=True, validation_split=0.15, batch_size=64, callbacks=[EarlyStopping(patience=2)])\n",
        "\n",
        "\n",
        "\n"
      ],
      "execution_count": 197,
      "outputs": [
        {
          "output_type": "stream",
          "text": [
            "Epoch 1/100\n",
            "6/6 [==============================] - 0s 21ms/step - loss: 1.0325 - val_loss: 0.8509\n",
            "Epoch 2/100\n",
            "6/6 [==============================] - 0s 8ms/step - loss: 0.9271 - val_loss: 0.7552\n",
            "Epoch 3/100\n",
            "6/6 [==============================] - 0s 9ms/step - loss: 0.6776 - val_loss: 0.6991\n",
            "Epoch 4/100\n",
            "6/6 [==============================] - 0s 8ms/step - loss: 0.5391 - val_loss: 0.7732\n",
            "Epoch 5/100\n",
            "6/6 [==============================] - 0s 8ms/step - loss: 0.5339 - val_loss: 0.6518\n",
            "Epoch 6/100\n",
            "6/6 [==============================] - 0s 8ms/step - loss: 0.5326 - val_loss: 0.5002\n",
            "Epoch 7/100\n",
            "6/6 [==============================] - 0s 8ms/step - loss: 0.5148 - val_loss: 0.8515\n",
            "Epoch 8/100\n",
            "6/6 [==============================] - 0s 9ms/step - loss: 0.5681 - val_loss: 0.5185\n"
          ],
          "name": "stdout"
        }
      ]
    },
    {
      "cell_type": "code",
      "metadata": {
        "id": "vbcpn_eeeaKS",
        "colab_type": "code",
        "colab": {
          "base_uri": "https://localhost:8080/",
          "height": 51
        },
        "outputId": "aff84a12-ac96-4a37-b10d-5bb045eb64df"
      },
      "source": [
        "# Evaluate the model on the test set\n",
        "unregularized_model.evaluate(test_data, test_target, verbose=2)\n"
      ],
      "execution_count": 198,
      "outputs": [
        {
          "output_type": "stream",
          "text": [
            "2/2 - 0s - loss: 0.3081\n"
          ],
          "name": "stdout"
        },
        {
          "output_type": "execute_result",
          "data": {
            "text/plain": [
              "0.3080785870552063"
            ]
          },
          "metadata": {
            "tags": []
          },
          "execution_count": 198
        }
      ]
    },
    {
      "cell_type": "code",
      "metadata": {
        "id": "JviUJQkneaKU",
        "colab_type": "code",
        "colab": {
          "base_uri": "https://localhost:8080/",
          "height": 867
        },
        "outputId": "c6fdd8f4-0a07-45ef-dce9-d1e28323d049"
      },
      "source": [
        "# Re-train the regularised model\n",
        "regularized_model = get_regularised_model(1e-8, 0.2)\n",
        "regularized_model.compile(optimizer='adam', loss = 'mse')\n",
        "reg_history = regularized_model.fit(train_data, train_target, epochs=100, verbose=True, validation_split=0.15, batch_size=64, callbacks=[EarlyStopping(patience=2)])\n",
        "\n",
        "\n",
        "\n"
      ],
      "execution_count": 199,
      "outputs": [
        {
          "output_type": "stream",
          "text": [
            "Epoch 1/100\n",
            "6/6 [==============================] - 0s 33ms/step - loss: 7.3711 - val_loss: 6.7460\n",
            "Epoch 2/100\n",
            "6/6 [==============================] - 0s 9ms/step - loss: 6.6536 - val_loss: 6.0815\n",
            "Epoch 3/100\n",
            "6/6 [==============================] - 0s 9ms/step - loss: 5.9975 - val_loss: 5.4667\n",
            "Epoch 4/100\n",
            "6/6 [==============================] - 0s 9ms/step - loss: 5.3994 - val_loss: 4.9197\n",
            "Epoch 5/100\n",
            "6/6 [==============================] - 0s 9ms/step - loss: 4.8586 - val_loss: 4.4148\n",
            "Epoch 6/100\n",
            "6/6 [==============================] - 0s 9ms/step - loss: 4.3621 - val_loss: 3.9789\n",
            "Epoch 7/100\n",
            "6/6 [==============================] - 0s 9ms/step - loss: 3.8895 - val_loss: 3.5486\n",
            "Epoch 8/100\n",
            "6/6 [==============================] - 0s 9ms/step - loss: 3.4531 - val_loss: 3.2224\n",
            "Epoch 9/100\n",
            "6/6 [==============================] - 0s 9ms/step - loss: 3.0484 - val_loss: 2.8645\n",
            "Epoch 10/100\n",
            "6/6 [==============================] - 0s 9ms/step - loss: 2.7582 - val_loss: 2.5350\n",
            "Epoch 11/100\n",
            "6/6 [==============================] - 0s 9ms/step - loss: 2.5098 - val_loss: 2.3445\n",
            "Epoch 12/100\n",
            "6/6 [==============================] - 0s 8ms/step - loss: 2.2475 - val_loss: 2.1801\n",
            "Epoch 13/100\n",
            "6/6 [==============================] - 0s 9ms/step - loss: 2.0623 - val_loss: 1.9306\n",
            "Epoch 14/100\n",
            "6/6 [==============================] - 0s 9ms/step - loss: 1.8762 - val_loss: 1.9344\n",
            "Epoch 15/100\n",
            "6/6 [==============================] - 0s 10ms/step - loss: 1.7508 - val_loss: 1.6781\n",
            "Epoch 16/100\n",
            "6/6 [==============================] - 0s 10ms/step - loss: 1.6280 - val_loss: 1.6217\n",
            "Epoch 17/100\n",
            "6/6 [==============================] - 0s 9ms/step - loss: 1.5018 - val_loss: 1.4403\n",
            "Epoch 18/100\n",
            "6/6 [==============================] - 0s 9ms/step - loss: 1.3949 - val_loss: 1.4394\n",
            "Epoch 19/100\n",
            "6/6 [==============================] - 0s 9ms/step - loss: 1.3078 - val_loss: 1.2528\n",
            "Epoch 20/100\n",
            "6/6 [==============================] - 0s 8ms/step - loss: 1.2487 - val_loss: 1.3105\n",
            "Epoch 21/100\n",
            "6/6 [==============================] - 0s 9ms/step - loss: 1.1794 - val_loss: 1.1253\n",
            "Epoch 22/100\n",
            "6/6 [==============================] - 0s 9ms/step - loss: 1.1593 - val_loss: 1.1409\n",
            "Epoch 23/100\n",
            "6/6 [==============================] - 0s 9ms/step - loss: 1.0432 - val_loss: 1.0424\n",
            "Epoch 24/100\n",
            "6/6 [==============================] - 0s 9ms/step - loss: 1.0215 - val_loss: 1.1363\n",
            "Epoch 25/100\n",
            "6/6 [==============================] - 0s 9ms/step - loss: 0.9866 - val_loss: 1.0746\n"
          ],
          "name": "stdout"
        }
      ]
    },
    {
      "cell_type": "code",
      "metadata": {
        "id": "VDLeCBJ-eaKW",
        "colab_type": "code",
        "colab": {
          "base_uri": "https://localhost:8080/",
          "height": 51
        },
        "outputId": "a72cec77-5058-46af-ae77-f82cc3e6fd19"
      },
      "source": [
        "# Evaluate the model on the test set\n",
        "regularized_model.evaluate(test_data, test_target, verbose=2)\n",
        "\n"
      ],
      "execution_count": 200,
      "outputs": [
        {
          "output_type": "stream",
          "text": [
            "2/2 - 0s - loss: 0.8359\n"
          ],
          "name": "stdout"
        },
        {
          "output_type": "execute_result",
          "data": {
            "text/plain": [
              "0.8359156250953674"
            ]
          },
          "metadata": {
            "tags": []
          },
          "execution_count": 200
        }
      ]
    },
    {
      "cell_type": "markdown",
      "metadata": {
        "id": "TkXGU6M3eaKY",
        "colab_type": "text"
      },
      "source": [
        "#### Plot the learning curves"
      ]
    },
    {
      "cell_type": "code",
      "metadata": {
        "id": "e-PNOjqCeaKY",
        "colab_type": "code",
        "colab": {
          "base_uri": "https://localhost:8080/",
          "height": 350
        },
        "outputId": "889d36f3-9f1e-4612-af43-f1d11ed22ac6"
      },
      "source": [
        "# Plot the training and validation loss\n",
        "\n",
        "import matplotlib.pyplot as plt\n",
        "\n",
        "fig = plt.figure(figsize=(12, 5))\n",
        "\n",
        "fig.add_subplot(121)\n",
        "\n",
        "plt.plot(unreg_history.history['loss'])\n",
        "plt.plot(unreg_history.history['val_loss'])\n",
        "plt.title('Unregularised model: loss vs. epochs')\n",
        "plt.ylabel('Loss')\n",
        "plt.xlabel('Epoch')\n",
        "plt.legend(['Training', 'Validation'], loc='upper right')\n",
        "\n",
        "fig.add_subplot(122)\n",
        "\n",
        "plt.plot(reg_history.history['loss'])\n",
        "plt.plot(reg_history.history['val_loss'])\n",
        "plt.title('Regularised model: loss vs. epochs')\n",
        "plt.ylabel('Loss')\n",
        "plt.xlabel('Epoch')\n",
        "plt.legend(['Training', 'Validation'], loc='upper right')\n",
        "\n",
        "plt.show()"
      ],
      "execution_count": 201,
      "outputs": [
        {
          "output_type": "display_data",
          "data": {
            "image/png": "[encoded data removed]",
            "text/plain": [
              "<Figure size 864x360 with 2 Axes>"
            ]
          },
          "metadata": {
            "tags": [],
            "needs_background": "light"
          }
        }
      ]
    },
    {
      "cell_type": "code",
      "metadata": {
        "id": "_Lp7XOlHOcRf",
        "colab_type": "code",
        "colab": {}
      },
      "source": [
        ""
      ],
      "execution_count": 0,
      "outputs": []
    }
  ]
}