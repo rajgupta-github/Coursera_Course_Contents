{
  "nbformat": 4,
  "nbformat_minor": 0,
  "metadata": {
    "kernelspec": {
      "display_name": "Python 3",
      "language": "python",
      "name": "python3"
    },
    "language_info": {
      "codemirror_mode": {
        "name": "ipython",
        "version": 3
      },
      "file_extension": ".py",
      "mimetype": "text/x-python",
      "name": "python",
      "nbconvert_exporter": "python",
      "pygments_lexer": "ipython3",
      "version": "3.7.1"
    },
    "colab": {
      "name": "Weight Initializers.ipynb",
      "provenance": []
    }
  },
  "cells": [
    {
      "cell_type": "markdown",
      "metadata": {
        "id": "WrigvcH0NfBS",
        "colab_type": "text"
      },
      "source": [
        "# Weight and bias initialisers \n",
        "\n",
        "In this reading we investigate different ways to initialise weights and biases in the layers of neural networks."
      ]
    },
    {
      "cell_type": "code",
      "metadata": {
        "id": "jf6kYzQ0NfBT",
        "colab_type": "code",
        "colab": {
          "base_uri": "https://localhost:8080/",
          "height": 34
        },
        "outputId": "649bb886-9d7f-4dfe-f090-d2ec80ab02fc"
      },
      "source": [
        "%matplotlib inline\n",
        "import tensorflow as tf\n",
        "import pandas as pd\n",
        "print(tf.__version__)"
      ],
      "execution_count": 1,
      "outputs": [
        {
          "output_type": "stream",
          "text": [
            "2.2.0\n"
          ],
          "name": "stdout"
        }
      ]
    },
    {
      "cell_type": "markdown",
      "metadata": {
        "id": "bvMSfflZNfBY",
        "colab_type": "text"
      },
      "source": [
        "### Default weights and biases\n",
        "\n",
        "In the models we have worked with so far, we have not specified the initial values of the weights and biases in each layer of our neural networks.\n",
        "\n",
        "The default values of the weights and biases in TensorFlow depend on the type of layers we are using. \n",
        "\n",
        "For example, in a `Dense` layer, the biases are set to zero (`zeros`) by default, while the weights are set according to `glorot_uniform`, the Glorot uniform initialiser. \n",
        "\n",
        "The Glorot uniform initialiser draws the weights uniformly at random from the closed interval $[-c,c]$, where $$c = \\sqrt{\\frac{6}{n_{input}+n_{output}}}$$"
      ]
    },
    {
      "cell_type": "markdown",
      "metadata": {
        "id": "sZ2KBQDWNfBY",
        "colab_type": "text"
      },
      "source": [
        "and $n_{input}$ and $n_{output}$ are the number of inputs to, and outputs from the layer respectively."
      ]
    },
    {
      "cell_type": "markdown",
      "metadata": {
        "id": "eXLDW6_-NfBZ",
        "colab_type": "text"
      },
      "source": [
        "### Initialising your own weights and biases\n",
        "We often would like to initialise our own weights and biases, and TensorFlow makes this process quite straightforward.\n",
        "\n",
        "When we construct a model in TensorFlow, each layer has optional arguments `kernel_initialiser` and `bias_initialiser`, which are used to set the weights and biases respectively.\n",
        "\n",
        "If a layer has no weights or biases (e.g. it is a max pooling layer), then trying to set either `kernel_initialiser` or `bias_initialiser` will throw an error.\n",
        "\n",
        "Let's see an example, which uses some of the different initialisations available in Keras."
      ]
    },
    {
      "cell_type": "code",
      "metadata": {
        "id": "0Kkf-T9ENfBa",
        "colab_type": "code",
        "colab": {}
      },
      "source": [
        "from tensorflow.keras.models import Sequential\n",
        "from tensorflow.keras.layers import Flatten, Dense, Conv1D, MaxPooling1D "
      ],
      "execution_count": 0,
      "outputs": []
    },
    {
      "cell_type": "code",
      "metadata": {
        "id": "C93NamnWNfBd",
        "colab_type": "code",
        "colab": {}
      },
      "source": [
        "#Constructing a model\n",
        "\n",
        "model = Sequential([\n",
        "    Conv1D(filters=16, kernel_size=3, input_shape=(128, 64), kernel_initializer='random_uniform', bias_initializer=\"zeros\", activation='relu'),\n",
        "    MaxPooling1D(pool_size=4),\n",
        "    Flatten(),\n",
        "    Dense(64, kernel_initializer='he_uniform', bias_initializer='ones', activation='relu'),\n",
        "])"
      ],
      "execution_count": 0,
      "outputs": []
    },
    {
      "cell_type": "markdown",
      "metadata": {
        "id": "qpgRfC2yNfBh",
        "colab_type": "text"
      },
      "source": [
        "As the following example illustrates, we can also instantiate initialisers in a slightly different manner, allowing us to set optional arguments of the initialisation method."
      ]
    },
    {
      "cell_type": "code",
      "metadata": {
        "id": "lLenHFpKNfBh",
        "colab_type": "code",
        "colab": {}
      },
      "source": [
        "#Adding some layers to our model\n",
        "\n",
        "model.add(Dense(64, \n",
        "                kernel_initializer=tf.keras.initializers.RandomNormal(mean=0.0, stddev=0.05), \n",
        "                bias_initializer=tf.keras.initializers.Constant(value=0.4), \n",
        "                activation='relu'),)\n",
        "\n",
        "model.add(Dense(8, \n",
        "                kernel_initializer=tf.keras.initializers.Orthogonal(gain=1.0, seed=None), \n",
        "                bias_initializer=tf.keras.initializers.Constant(value=0.4), \n",
        "                activation='relu'))"
      ],
      "execution_count": 0,
      "outputs": []
    },
    {
      "cell_type": "markdown",
      "metadata": {
        "id": "qWC199dsNfBk",
        "colab_type": "text"
      },
      "source": [
        "### Custom weight and bias initialisers\n",
        "It is also possible to define your own weight and bias initialisers.\n",
        "Initializers must take in two arguments, the `shape` of the tensor to be initialised, and its `dtype`.\n",
        "\n",
        "Here is a small example, which also shows how you can use your custom initializer in a layer."
      ]
    },
    {
      "cell_type": "code",
      "metadata": {
        "id": "poINC1mINfBl",
        "colab_type": "code",
        "colab": {}
      },
      "source": [
        "import tensorflow.keras.backend as K"
      ],
      "execution_count": 0,
      "outputs": []
    },
    {
      "cell_type": "code",
      "metadata": {
        "id": "BLMAw4l7NfBo",
        "colab_type": "code",
        "colab": {}
      },
      "source": [
        "#Example of a custom initializer\n",
        "\n",
        "def my_init(shape, dtype=None):\n",
        "    return K.random_normal(shape, dtype=dtype)\n",
        "\n",
        "model.add(Dense(64, kernel_initializer=my_init))"
      ],
      "execution_count": 0,
      "outputs": []
    },
    {
      "cell_type": "markdown",
      "metadata": {
        "id": "UVUMfYkBNfBs",
        "colab_type": "text"
      },
      "source": [
        "Let's take a look at the summary of our finalised model."
      ]
    },
    {
      "cell_type": "code",
      "metadata": {
        "id": "2qv7EbKJNfBt",
        "colab_type": "code",
        "colab": {}
      },
      "source": [
        "model.summary()"
      ],
      "execution_count": 0,
      "outputs": []
    },
    {
      "cell_type": "markdown",
      "metadata": {
        "id": "B4wbYtR2NfBw",
        "colab_type": "text"
      },
      "source": [
        "### Visualising the initialised weights and biases"
      ]
    },
    {
      "cell_type": "markdown",
      "metadata": {
        "id": "5xR82yv9NfBw",
        "colab_type": "text"
      },
      "source": [
        "Finally, we can see the effect of our initialisers on the weights and biases by plotting histograms of the resulting values. Compare these plots with the selected initialisers for each layer above."
      ]
    },
    {
      "cell_type": "code",
      "metadata": {
        "id": "U1rIdagMNfBx",
        "colab_type": "code",
        "colab": {}
      },
      "source": [
        "import matplotlib.pyplot as plt"
      ],
      "execution_count": 0,
      "outputs": []
    },
    {
      "cell_type": "code",
      "metadata": {
        "id": "_ojl_x7wNfB0",
        "colab_type": "code",
        "colab": {}
      },
      "source": [
        "fig, axes = plt.subplots(5, 2, figsize=(12,16))\n",
        "fig.subplots_adjust(hspace=0.5, wspace=0.5)\n",
        "\n",
        "# Filter out the pooling and flatten layers, that don't have any weights\n",
        "weight_layers = [layer for layer in model.layers if len(layer.weights) > 0]\n",
        "\n",
        "for i, layer in enumerate(weight_layers):\n",
        "    for j in [0, 1]:\n",
        "        axes[i, j].hist(layer.weights[j].numpy().flatten(), align='left')\n",
        "        axes[i, j].set_title(layer.weights[j].name)"
      ],
      "execution_count": 0,
      "outputs": []
    },
    {
      "cell_type": "markdown",
      "metadata": {
        "id": "8WdiuC7TNfB4",
        "colab_type": "text"
      },
      "source": [
        "## Further reading and resources \n",
        "* https://keras.io/initializers/\n",
        "* https://www.tensorflow.org/versions/r2.0/api_docs/python/tf/keras/initializers"
      ]
    }
  ]
}