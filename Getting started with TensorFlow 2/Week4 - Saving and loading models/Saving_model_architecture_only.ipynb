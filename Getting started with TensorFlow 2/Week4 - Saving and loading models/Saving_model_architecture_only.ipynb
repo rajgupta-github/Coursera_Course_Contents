{
  "nbformat": 4,
  "nbformat_minor": 0,
  "metadata": {
    "kernelspec": {
      "display_name": "Python 3",
      "language": "python",
      "name": "python3"
    },
    "language_info": {
      "codemirror_mode": {
        "name": "ipython",
        "version": 3
      },
      "file_extension": ".py",
      "mimetype": "text/x-python",
      "name": "python",
      "nbconvert_exporter": "python",
      "pygments_lexer": "ipython3",
      "version": "3.7.1"
    },
    "colab": {
      "name": "Saving model architecture only.ipynb",
      "provenance": [],
      "collapsed_sections": []
    }
  },
  "cells": [
    {
      "cell_type": "markdown",
      "metadata": {
        "id": "lSPv02XINp3J",
        "colab_type": "text"
      },
      "source": [
        "# Saving model architecture only\n",
        "\n",
        "In this reading you will learn how to save a model's architecture, but not its weights."
      ]
    },
    {
      "cell_type": "code",
      "metadata": {
        "id": "pUxM_wS7Np3L",
        "colab_type": "code",
        "colab": {}
      },
      "source": [
        "import tensorflow as tf\n",
        "from tensorflow.keras.models import Sequential\n",
        "from tensorflow.keras.layers import Dense\n",
        "import json\n",
        "import numpy as np"
      ],
      "execution_count": 0,
      "outputs": []
    },
    {
      "cell_type": "markdown",
      "metadata": {
        "id": "8FkL4l0-Np3Q",
        "colab_type": "text"
      },
      "source": [
        "In previous videos and notebooks you have have learned how to save a model's weights, as well as the entire model - weights and architecture."
      ]
    },
    {
      "cell_type": "markdown",
      "metadata": {
        "id": "s7d7EBkPNp3R",
        "colab_type": "text"
      },
      "source": [
        "### Accessing a model's configuration\n",
        "A model's *configuration* refers to its architecture. TensorFlow has a convenient way to retrieve a model's architecture as a dictionary. We start by creating a simple fully connected feedforward neural network with 1 hidden layer."
      ]
    },
    {
      "cell_type": "code",
      "metadata": {
        "id": "g9ExRztfNp3S",
        "colab_type": "code",
        "colab": {}
      },
      "source": [
        "model = Sequential([\n",
        "    Dense(units=32, input_shape=(32, 32, 3), activation='relu', name='dense_1'),\n",
        "    Dense(units=10, activation='softmax', name='dense_2')\n",
        "])"
      ],
      "execution_count": 0,
      "outputs": []
    },
    {
      "cell_type": "markdown",
      "metadata": {
        "id": "1QeLjGz4Np3X",
        "colab_type": "text"
      },
      "source": [
        "A TensorFlow model has an inbuilt method `get_config` which returns the model's architecture as a dictionary:"
      ]
    },
    {
      "cell_type": "code",
      "metadata": {
        "id": "b28bxSjKNp3Z",
        "colab_type": "code",
        "colab": {}
      },
      "source": [
        "config_dict = model.get_config()\n",
        "print(config_dict)"
      ],
      "execution_count": 0,
      "outputs": []
    },
    {
      "cell_type": "markdown",
      "metadata": {
        "id": "M4zEaBCtNp3d",
        "colab_type": "text"
      },
      "source": [
        "### Creating a new model from the config\n",
        "A new TensorFlow model can be created from this config dictionary. This model will have reinitialized weights, which are not the same as the original model."
      ]
    },
    {
      "cell_type": "code",
      "metadata": {
        "id": "FoJ5ueGLNp3e",
        "colab_type": "code",
        "colab": {}
      },
      "source": [
        "model_same_config = tf.keras.Sequential.from_config(config_dict)"
      ],
      "execution_count": 0,
      "outputs": []
    },
    {
      "cell_type": "markdown",
      "metadata": {
        "id": "6HVIbBvXNp3i",
        "colab_type": "text"
      },
      "source": [
        "We can check explicitly that the config of both models is the same, but the weights are not: "
      ]
    },
    {
      "cell_type": "code",
      "metadata": {
        "id": "ZZr2MO6CNp3j",
        "colab_type": "code",
        "colab": {}
      },
      "source": [
        "print('Same config:', \n",
        "      model.get_config() == model_same_config.get_config())\n",
        "print('Same value for first weight matrix:', \n",
        "      np.allclose(model.weights[0].numpy(), model_same_config.weights[0].numpy()))"
      ],
      "execution_count": 0,
      "outputs": []
    },
    {
      "cell_type": "markdown",
      "metadata": {
        "id": "o3C9YqFWNp3o",
        "colab_type": "text"
      },
      "source": [
        "For models that are not `Sequential` models, use `tf.keras.Model.from_config` instead of `tf.keras.Sequential.from_config`."
      ]
    },
    {
      "cell_type": "markdown",
      "metadata": {
        "id": "BvWVKhicNp3p",
        "colab_type": "text"
      },
      "source": [
        "### Other file formats: JSON and YAML\n",
        "It is also possible to obtain a model's config in JSON or YAML formats. This follows the same pattern:"
      ]
    },
    {
      "cell_type": "code",
      "metadata": {
        "id": "0n5BDyUCNp3q",
        "colab_type": "code",
        "colab": {}
      },
      "source": [
        "json_string = model.to_json()\n",
        "print(json_string)"
      ],
      "execution_count": 0,
      "outputs": []
    },
    {
      "cell_type": "markdown",
      "metadata": {
        "id": "13oFKtJyNp3u",
        "colab_type": "text"
      },
      "source": [
        "The JSON format can easily be written out and saved as a file:"
      ]
    },
    {
      "cell_type": "code",
      "metadata": {
        "id": "_GXS9tb-Np3v",
        "colab_type": "code",
        "colab": {}
      },
      "source": [
        "# Write out JSON config file\n",
        "\n",
        "with open('config.json', 'w') as f:\n",
        "    json.dump(json_string, f)\n",
        "del json_string"
      ],
      "execution_count": 0,
      "outputs": []
    },
    {
      "cell_type": "code",
      "metadata": {
        "id": "OOAYe6pFNp3z",
        "colab_type": "code",
        "colab": {}
      },
      "source": [
        "# Read in JSON config file again\n",
        "\n",
        "with open('config.json', 'r') as f:\n",
        "    json_string = json.load(f)"
      ],
      "execution_count": 0,
      "outputs": []
    },
    {
      "cell_type": "code",
      "metadata": {
        "id": "dSb4zwSeNp33",
        "colab_type": "code",
        "colab": {}
      },
      "source": [
        "# Reinitialize model\n",
        "\n",
        "model_same_config = tf.keras.models.model_from_json(json_string)"
      ],
      "execution_count": 0,
      "outputs": []
    },
    {
      "cell_type": "code",
      "metadata": {
        "id": "3T13rOLFNp36",
        "colab_type": "code",
        "colab": {}
      },
      "source": [
        "# Same config, new weights\n",
        "\n",
        "print('Same config:', \n",
        "      model.get_config() == model_same_config.get_config())\n",
        "print('Same value for first weight matrix:', \n",
        "      np.allclose(model.weights[0].numpy(), model_same_config.weights[0].numpy()))"
      ],
      "execution_count": 0,
      "outputs": []
    },
    {
      "cell_type": "markdown",
      "metadata": {
        "id": "o5gQXx47Np39",
        "colab_type": "text"
      },
      "source": [
        "The YAML format is similar. The details of writing out YAML files, loading them and using them to create a new model are similar as for the JSON files, so we won't show it here."
      ]
    },
    {
      "cell_type": "code",
      "metadata": {
        "id": "RX5eByn1Np3-",
        "colab_type": "code",
        "colab": {}
      },
      "source": [
        "yaml_string = model.to_yaml()\n",
        "print(yaml_string)"
      ],
      "execution_count": 0,
      "outputs": []
    },
    {
      "cell_type": "markdown",
      "metadata": {
        "id": "p0ywnUGTNp4B",
        "colab_type": "text"
      },
      "source": [
        "Writing out, reading in and using YAML files to create models is similar to JSON files. "
      ]
    },
    {
      "cell_type": "markdown",
      "metadata": {
        "id": "JoT0Y6vENp4C",
        "colab_type": "text"
      },
      "source": [
        "### Further reading and resources\n",
        "* https://www.tensorflow.org/guide/keras/save_and_serialize#architecture-only_saving\n",
        "* https://keras.io/getting-started/faq/#how-can-i-save-a-keras-model"
      ]
    }
  ]
}